{
 "cells": [
  {
   "cell_type": "markdown",
   "metadata": {},
   "source": [
    "Dataset Overview:\n",
    "The dataset comprises several features that are crucial for understanding the nuances of essay writing and for building a model that can accurately score these essays. Here's a brief overview of the key components of the dataset:\n",
    "\n",
    "Essay ID: A unique identifier for each essay. This is important for tracking and analyzing individual essays.\n",
    "\n",
    "Essay Set: Indicates the set to which an essay belongs. The dataset contains essays from different sets, each potentially having different scoring criteria or topics.\n",
    "\n",
    "Essay: The actual text of the essay. This is the most critical part of the dataset, as the NLP model will primarily analyze this text to score the essay.\n",
    "\n",
    "Domain Prediction ID: A feature related to the first domain of prediction for the essay score.\n",
    "\n",
    "Domain Score: This relates to the score of essay."
   ]
  },
  {
   "cell_type": "markdown",
   "metadata": {},
   "source": []
  },
  {
   "cell_type": "code",
   "execution_count": null,
   "metadata": {},
   "outputs": [],
   "source": []
  },
  {
   "cell_type": "code",
   "execution_count": 6,
   "metadata": {},
   "outputs": [],
   "source": [
    "import os\n",
    "import pandas as pd\n",
    "import nltk\n",
    "import matplotlib.pyplot as plt\n",
    "# nltk.download('stopwords')\n",
    "# nltk.download('punkt')"
   ]
  },
  {
   "cell_type": "code",
   "execution_count": 3,
   "metadata": {},
   "outputs": [],
   "source": [
    "DATASET_DIR = './data'\n",
    "SAVE_DIR = './'"
   ]
  },
  {
   "cell_type": "code",
   "execution_count": 4,
   "metadata": {},
   "outputs": [],
   "source": [
    "# Load the dataset\n",
    "data_set = pd.read_csv(os.path.join(DATASET_DIR, 'training_set_rel3.tsv'), sep='\\t', encoding='ISO-8859-1')\n",
    "\n",
    "# Extract the column that contains the essay scores\n",
    "score_col = data_set['domain1_score']\n",
    "\n",
    "# Drop columns with missing values\n",
    "data_set = data_set.dropna(axis=1)\n",
    "\n",
    "# Drop specific columns that are not needed for the analysis\n",
    "data_set = data_set.drop(columns=['rater1_domain1', 'rater2_domain1'])"
   ]
  },
  {
   "cell_type": "code",
   "execution_count": 5,
   "metadata": {},
   "outputs": [
    {
     "data": {
      "text/html": [
       "<div>\n",
       "<style scoped>\n",
       "    .dataframe tbody tr th:only-of-type {\n",
       "        vertical-align: middle;\n",
       "    }\n",
       "\n",
       "    .dataframe tbody tr th {\n",
       "        vertical-align: top;\n",
       "    }\n",
       "\n",
       "    .dataframe thead th {\n",
       "        text-align: right;\n",
       "    }\n",
       "</style>\n",
       "<table border=\"1\" class=\"dataframe\">\n",
       "  <thead>\n",
       "    <tr style=\"text-align: right;\">\n",
       "      <th></th>\n",
       "      <th>essay_id</th>\n",
       "      <th>essay_set</th>\n",
       "      <th>essay</th>\n",
       "      <th>domain1_score</th>\n",
       "    </tr>\n",
       "  </thead>\n",
       "  <tbody>\n",
       "    <tr>\n",
       "      <th>0</th>\n",
       "      <td>1</td>\n",
       "      <td>1</td>\n",
       "      <td>Dear local newspaper, I think effects computer...</td>\n",
       "      <td>8</td>\n",
       "    </tr>\n",
       "    <tr>\n",
       "      <th>1</th>\n",
       "      <td>2</td>\n",
       "      <td>1</td>\n",
       "      <td>Dear @CAPS1 @CAPS2, I believe that using compu...</td>\n",
       "      <td>9</td>\n",
       "    </tr>\n",
       "    <tr>\n",
       "      <th>2</th>\n",
       "      <td>3</td>\n",
       "      <td>1</td>\n",
       "      <td>Dear, @CAPS1 @CAPS2 @CAPS3 More and more peopl...</td>\n",
       "      <td>7</td>\n",
       "    </tr>\n",
       "    <tr>\n",
       "      <th>3</th>\n",
       "      <td>4</td>\n",
       "      <td>1</td>\n",
       "      <td>Dear Local Newspaper, @CAPS1 I have found that...</td>\n",
       "      <td>10</td>\n",
       "    </tr>\n",
       "    <tr>\n",
       "      <th>4</th>\n",
       "      <td>5</td>\n",
       "      <td>1</td>\n",
       "      <td>Dear @LOCATION1, I know having computers has a...</td>\n",
       "      <td>8</td>\n",
       "    </tr>\n",
       "  </tbody>\n",
       "</table>\n",
       "</div>"
      ],
      "text/plain": [
       "   essay_id  essay_set                                              essay  \\\n",
       "0         1          1  Dear local newspaper, I think effects computer...   \n",
       "1         2          1  Dear @CAPS1 @CAPS2, I believe that using compu...   \n",
       "2         3          1  Dear, @CAPS1 @CAPS2 @CAPS3 More and more peopl...   \n",
       "3         4          1  Dear Local Newspaper, @CAPS1 I have found that...   \n",
       "4         5          1  Dear @LOCATION1, I know having computers has a...   \n",
       "\n",
       "   domain1_score  \n",
       "0              8  \n",
       "1              9  \n",
       "2              7  \n",
       "3             10  \n",
       "4              8  "
      ]
     },
     "execution_count": 5,
     "metadata": {},
     "output_type": "execute_result"
    }
   ],
   "source": [
    "data_set.head()"
   ]
  },
  {
   "cell_type": "code",
   "execution_count": 9,
   "metadata": {},
   "outputs": [
    {
     "data": {
      "text/plain": [
       "(12976, 4)"
      ]
     },
     "execution_count": 9,
     "metadata": {},
     "output_type": "execute_result"
    }
   ],
   "source": [
    "data_set.shape"
   ]
  },
  {
   "cell_type": "code",
   "execution_count": 7,
   "metadata": {},
   "outputs": [
    {
     "data": {
      "image/png": "[encoded data removed]",
      "text/plain": [
       "<Figure size 1000x600 with 1 Axes>"
      ]
     },
     "metadata": {},
     "output_type": "display_data"
    }
   ],
   "source": [
    "\n",
    "\n",
    "# Plotting the distribution of essay scores\n",
    "plt.figure(figsize=(10,6))\n",
    "plt.hist(score_col, bins=20, color='skyblue', edgecolor='black')\n",
    "plt.title('Distribution of Essay Scores')\n",
    "plt.xlabel('Score')\n",
    "plt.ylabel('Frequency')\n",
    "plt.show()\n"
   ]
  },
  {
   "cell_type": "code",
   "execution_count": 11,
   "metadata": {},
   "outputs": [],
   "source": [
    "minimum_scores = [-1, 2, 1, 0, 0, 0, 0, 0, 0]\n",
    "maximum_scores = [-1, 12, 6, 3, 3, 4, 4, 30, 60]\n",
    "\n",
    "#  If your model predicts scores, it's important to normalize these predictions within the actual scoring range of the essays. For example, \n",
    "# if an essay set has scores ranging from 2 to 12, a predicted score of 13 would be invalid.\n",
    "# Before training your model, you can use these ranges to validate the data. Any essay with a score outside these ranges can be considered an anomaly or an error. "
   ]
  },
  {
   "cell_type": "code",
   "execution_count": 15,
   "metadata": {},
   "outputs": [],
   "source": [
    "import numpy as np\n",
    "import nltk\n",
    "import re\n",
    "from nltk.corpus import stopwords\n",
    "from gensim.models import Word2Vec\n",
    "from keras.preprocessing.text import Tokenizer\n",
    "from keras.preprocessing.sequence import pad_sequences\n",
    "\n",
    "\n",
    "# Optional: Load or define a custom stopwords list\n",
    "custom_stopwords = set([\n",
    "    \"the\", \"of\", \"and\", \"a\", \"to\", \"in\", \"is\", \"you\", \"that\", \"it\", \n",
    "    \"he\", \"was\", \"for\", \"on\", \"are\", \"as\", \"with\", \"his\", \"they\", \"at\",\n",
    "    \"be\", \"this\", \"have\", \"from\", \"or\", \"one\", \"had\", \"by\", \"word\", \"but\",\n",
    "    \"not\", \"what\", \"all\", \"were\", \"we\", \"when\", \"your\", \"can\", \"said\", \n",
    "    \"there\", \"use\", \"an\", \"each\", \"which\", \"she\", \"do\", \"how\", \"their\", \n",
    "    \"if\", \"will\", \"up\", \"other\", \"about\", \"out\", \"many\", \"then\", \"them\",\n",
    "    \"these\", \"so\", \"some\", \"her\", \"would\", \"make\", \"like\", \"him\", \"into\", \n",
    "    \"time\", \"has\", \"look\", \"two\", \"more\", \"write\", \"go\", \"see\", \"number\", \n",
    "    \"no\", \"way\", \"could\", \"people\", \"my\", \"than\", \"first\", \"water\", \"been\",\n",
    "    \"call\", \"who\", \"oil\", \"its\", \"now\", \"find\", \"long\", \"down\", \"day\", \n",
    "    \"did\", \"get\", \"come\", \"made\", \"may\", \"part\"\n",
    "])\n",
    "\n",
    "\n",
    "def clean_essay(essay_v, remove_stopwords):\n",
    "    \"\"\"\n",
    "    Clean the essay text and optionally remove common stopwords.\n",
    "    \"\"\"\n",
    "    essay_v = re.sub(\"[^a-zA-Z]\", \" \", essay_v)\n",
    "    words = essay_v.lower().split()\n",
    "    if remove_stopwords:\n",
    "        stops = custom_stopwords if 'custom_stopwords' in globals() else set(stopwords.words(\"english\"))\n",
    "        words = [w for w in words if w not in stops]\n",
    "    return ' '.join(words)\n",
    "\n",
    "def essay_to_wordlist(essay_v, remove_stopwords):\n",
    "    \"\"\"\n",
    "    Convert the essay to a list of words. Optionally remove common stopwords.\n",
    "    \"\"\"\n",
    "    essay_v = re.sub(\"[^a-zA-Z]\", \" \", essay_v)\n",
    "    words = essay_v.lower().split()\n",
    "    if remove_stopwords:\n",
    "        # Use a custom stopwords list if available, else default to NLTK's list\n",
    "        stops = custom_stopwords if 'custom_stopwords' in globals() else set(stopwords.words(\"english\"))\n",
    "        words = [w for w in words if w not in stops]\n",
    "    return words\n",
    "\n",
    "def essay_to_sentences(essay_v, remove_stopwords):\n",
    "    \"\"\"\n",
    "    Split the essay into sentences and tokenize each sentence into words.\n",
    "    \"\"\"\n",
    "    tokenizer = nltk.data.load('tokenizers/punkt/english.pickle')\n",
    "    raw_sentences = tokenizer.tokenize(essay_v.strip())\n",
    "    sentences = []\n",
    "    for raw_sentence in raw_sentences:\n",
    "        if len(raw_sentence) > 0:\n",
    "            sentences.append(essay_to_wordlist(raw_sentence, remove_stopwords))\n",
    "    return sentences\n",
    "\n",
    "def essays_to_sequences(essays, remove_stopwords, max_sequence_length, vocab_size):\n",
    "    \"\"\"\n",
    "    Convert a list of essays to sequences of word indices.\n",
    "\n",
    "    Parameters:\n",
    "    - essays: List of essays.\n",
    "    - remove_stopwords: Whether to remove stopwords.\n",
    "    - max_sequence_length: The maximum length of sequences.\n",
    "    - vocab_size: The size of the vocabulary.\n",
    "    \"\"\"\n",
    "    cleaned_essays = [clean_essay(essay, remove_stopwords) for essay in essays]\n",
    "\n",
    "    tokenizer = Tokenizer(num_words=vocab_size)\n",
    "    tokenizer.fit_on_texts(cleaned_essays)\n",
    "    sequences = tokenizer.texts_to_sequences(cleaned_essays)\n",
    "\n",
    "    word_index = tokenizer.word_index\n",
    "    print(f\"Found {len(word_index)} unique tokens.\")\n",
    "\n",
    "    # Pad sequences to ensure uniform length\n",
    "    data = pad_sequences(sequences, maxlen=max_sequence_length)\n",
    "\n",
    "    return data, tokenizer\n",
    "\n",
    "def makeFeatureVec(words, model, num_features):\n",
    "    \"\"\"\n",
    "    Generate a feature vector for an essay or part of it using the Word2Vec model.\n",
    "    \"\"\"\n",
    "    featureVec = np.zeros((num_features,), dtype=\"float32\")\n",
    "    num_words = 0.\n",
    "    for word in words:\n",
    "        if word in model.wv.key_to_index:\n",
    "            num_words += 1\n",
    "            featureVec = np.add(featureVec, model.wv[word])\n",
    "    \n",
    "    # Handling edge case: Return an average vector if no words are found in the model\n",
    "    if num_words == 0:\n",
    "        return np.full((num_features,), fill_value=np.mean(model.wv.vectors, axis=0))\n",
    "    \n",
    "    featureVec = np.divide(featureVec, num_words)\n",
    "    return featureVec\n",
    "\n",
    "def getAvgFeatureVecs(essays, model, num_features):\n",
    "    \"\"\"\n",
    "    Generate word vectors for a Word2Vec model for each essay.\n",
    "    \"\"\"\n",
    "    essayFeatureVecs = np.zeros((len(essays), num_features), dtype=\"float32\")\n",
    "    for i, essay in enumerate(essays):\n",
    "        # Handle empty essays\n",
    "        if len(essay) == 0:\n",
    "            essayFeatureVecs[i] = np.zeros((num_features,))\n",
    "        else:\n",
    "            essayFeatureVecs[i] = makeFeatureVec(essay, model, num_features)\n",
    "    return essayFeatureVecs\n"
   ]
  },
  {
   "cell_type": "code",
   "execution_count": 14,
   "metadata": {},
   "outputs": [],
   "source": [
    "from keras.layers import Embedding, LSTM, Dense, Dropout\n",
    "from keras.models import Sequential\n",
    "import keras.backend as K\n",
    "\n",
    "def get_sequence_model(sequence_length, word_vector_dim, vocab_size, embedding_matrix=None):\n",
    "    \"\"\"\n",
    "    Define a model that processes sequences of word vectors.\n",
    "\n",
    "    Parameters:\n",
    "    - sequence_length: The length of the input sequences.\n",
    "    - word_vector_dim: The dimensionality of the word vectors.\n",
    "    - vocab_size: The size of the vocabulary.\n",
    "    - embedding_matrix (optional): Pre-trained word embeddings.\n",
    "    \"\"\"\n",
    "    model = Sequential()\n",
    "\n",
    "    # If a pre-trained embedding matrix is provided, use it in the Embedding layer\n",
    "    if embedding_matrix is not None:\n",
    "        model.add(Embedding(input_dim=vocab_size, output_dim=word_vector_dim, \n",
    "                            weights=[embedding_matrix], \n",
    "                            input_length=sequence_length, \n",
    "                            trainable=False))\n",
    "    else:\n",
    "        # Otherwise, train the embeddings from scratch\n",
    "        model.add(Embedding(input_dim=vocab_size, output_dim=word_vector_dim, \n",
    "                            input_length=sequence_length))\n",
    "\n",
    "    # Adjusting the LSTM layers for sequence input\n",
    "    model.add(LSTM(300, dropout=0.4, recurrent_dropout=0.4, return_sequences=True))\n",
    "    model.add(LSTM(64, recurrent_dropout=0.4))\n",
    "    model.add(Dropout(0.5))\n",
    "    model.add(Dense(1, activation='relu'))\n",
    "\n",
    "    model.compile(loss='mean_squared_error', optimizer='rmsprop', metrics=['mae'])\n",
    "    model.summary()\n",
    "\n",
    "    return model\n"
   ]
  },
  {
   "cell_type": "code",
   "execution_count": 16,
   "metadata": {},
   "outputs": [
    {
     "name": "stdout",
     "output_type": "stream",
     "text": [
      "Mean Essay Length: 222.70815351418003\n",
      "Median Essay Length: 163.0\n",
      "95th Percentile Length: 588.0\n"
     ]
    },
    {
     "data": {
      "image/png": "[encoded data removed]",
      "text/plain": [
       "<Figure size 1000x600 with 1 Axes>"
      ]
     },
     "metadata": {},
     "output_type": "display_data"
    }
   ],
   "source": [
    "# Analyzing Essay Lengths for max_sequence_length\n",
    "\n",
    "essay_lengths = data_set['essay'].apply(lambda x: len(x.split()))\n",
    "mean_length = essay_lengths.mean()\n",
    "median_length = essay_lengths.median()\n",
    "percentile_95 = essay_lengths.quantile(0.95)\n",
    "\n",
    "print(f\"Mean Essay Length: {mean_length}\")\n",
    "print(f\"Median Essay Length: {median_length}\")\n",
    "print(f\"95th Percentile Length: {percentile_95}\")\n",
    "\n",
    "# Plotting\n",
    "import matplotlib.pyplot as plt\n",
    "\n",
    "plt.figure(figsize=(10, 6))\n",
    "plt.hist(essay_lengths, bins=50, color='skyblue', edgecolor='black')\n",
    "plt.title('Distribution of Essay Lengths')\n",
    "plt.xlabel('Length of Essays (Number of Words)')\n",
    "plt.ylabel('Frequency')\n",
    "plt.show()\n"
   ]
  },
  {
   "cell_type": "code",
   "execution_count": 17,
   "metadata": {},
   "outputs": [
    {
     "name": "stdout",
     "output_type": "stream",
     "text": [
      "Total Vocabulary Size: 78396\n"
     ]
    }
   ],
   "source": [
    "# \n",
    "all_words = [word for essay in data_set['essay'] for word in essay.split()]\n",
    "vocab = set(all_words)\n",
    "vocab_size = len(vocab)\n",
    "\n",
    "print(f\"Total Vocabulary Size: {vocab_size}\")\n"
   ]
  },
  {
   "cell_type": "code",
   "execution_count": 18,
   "metadata": {},
   "outputs": [
    {
     "name": "stdout",
     "output_type": "stream",
     "text": [
      "Found 37905 unique tokens.\n"
     ]
    }
   ],
   "source": [
    "# Extracting the 'essay' column from the DataFrame using list comprehension\n",
    "essays = [essay for essay in data_set['essay']]\n",
    "\n",
    "# Define the maximum sequence length and vocabulary size based on your data analysis\n",
    "max_sequence_length = 600\n",
    "vocab_size = 20000\n",
    "\n",
    "# Convert the essays to sequences\n",
    "processed_data, tokenizer = essays_to_sequences(essays, remove_stopwords=True, max_sequence_length=max_sequence_length, vocab_size=vocab_size)\n"
   ]
  },
  {
   "cell_type": "code",
   "execution_count": 19,
   "metadata": {},
   "outputs": [
    {
     "name": "stdout",
     "output_type": "stream",
     "text": [
      "\n",
      "--------Fold 1--------\n",
      "\n",
      "WARNING:tensorflow:From c:\\Users\\Adefemi\\Desktop\\eassay_score\\.venv\\Lib\\site-packages\\keras\\src\\backend.py:873: The name tf.get_default_graph is deprecated. Please use tf.compat.v1.get_default_graph instead.\n",
      "\n",
      "WARNING:tensorflow:From c:\\Users\\Adefemi\\Desktop\\eassay_score\\.venv\\Lib\\site-packages\\keras\\src\\optimizers\\__init__.py:309: The name tf.train.Optimizer is deprecated. Please use tf.compat.v1.train.Optimizer instead.\n",
      "\n",
      "Model: \"sequential\"\n",
      "_________________________________________________________________\n",
      " Layer (type)                Output Shape              Param #   \n",
      "=================================================================\n",
      " embedding (Embedding)       (None, 600, 300)          6000000   \n",
      "                                                                 \n",
      " lstm (LSTM)                 (None, 600, 300)          721200    \n",
      "                                                                 \n",
      " lstm_1 (LSTM)               (None, 64)                93440     \n",
      "                                                                 \n",
      " dropout (Dropout)           (None, 64)                0         \n",
      "                                                                 \n",
      " dense (Dense)               (None, 1)                 65        \n",
      "                                                                 \n",
      "=================================================================\n",
      "Total params: 6814705 (26.00 MB)\n",
      "Trainable params: 6814705 (26.00 MB)\n",
      "Non-trainable params: 0 (0.00 Byte)\n",
      "_________________________________________________________________\n",
      "Epoch 1/2\n",
      "WARNING:tensorflow:From c:\\Users\\Adefemi\\Desktop\\eassay_score\\.venv\\Lib\\site-packages\\keras\\src\\utils\\tf_utils.py:492: The name tf.ragged.RaggedTensorValue is deprecated. Please use tf.compat.v1.ragged.RaggedTensorValue instead.\n",
      "\n",
      "WARNING:tensorflow:From c:\\Users\\Adefemi\\Desktop\\eassay_score\\.venv\\Lib\\site-packages\\keras\\src\\engine\\base_layer_utils.py:384: The name tf.executing_eagerly_outside_functions is deprecated. Please use tf.compat.v1.executing_eagerly_outside_functions instead.\n",
      "\n",
      "163/163 [==============================] - 979s 6s/step - loss: 107.8647 - mae: 6.5027\n",
      "Epoch 2/2\n",
      "163/163 [==============================] - 984s 6s/step - loss: 125.3481 - mae: 6.7758\n",
      "82/82 [==============================] - 40s 478ms/step\n",
      "Kappa Score: 0.0\n",
      "\n",
      "--------Fold 2--------\n",
      "\n",
      "Model: \"sequential_1\"\n",
      "_________________________________________________________________\n",
      " Layer (type)                Output Shape              Param #   \n",
      "=================================================================\n",
      " embedding_1 (Embedding)     (None, 600, 300)          6000000   \n",
      "                                                                 \n",
      " lstm_2 (LSTM)               (None, 600, 300)          721200    \n",
      "                                                                 \n",
      " lstm_3 (LSTM)               (None, 64)                93440     \n",
      "                                                                 \n",
      " dropout_1 (Dropout)         (None, 64)                0         \n",
      "                                                                 \n",
      " dense_1 (Dense)             (None, 1)                 65        \n",
      "                                                                 \n",
      "=================================================================\n",
      "Total params: 6814705 (26.00 MB)\n",
      "Trainable params: 6814705 (26.00 MB)\n",
      "Non-trainable params: 0 (0.00 Byte)\n",
      "_________________________________________________________________\n",
      "Epoch 1/2\n",
      "163/163 [==============================] - 990s 6s/step - loss: 110.0305 - mae: 6.5197\n",
      "Epoch 2/2\n",
      "163/163 [==============================] - 1021s 6s/step - loss: 127.1973 - mae: 6.8185\n",
      "82/82 [==============================] - 45s 550ms/step\n",
      "Kappa Score: 0.0\n",
      "\n",
      "--------Fold 3--------\n",
      "\n",
      "Model: \"sequential_2\"\n",
      "_________________________________________________________________\n",
      " Layer (type)                Output Shape              Param #   \n",
      "=================================================================\n",
      " embedding_2 (Embedding)     (None, 600, 300)          6000000   \n",
      "                                                                 \n",
      " lstm_4 (LSTM)               (None, 600, 300)          721200    \n",
      "                                                                 \n",
      " lstm_5 (LSTM)               (None, 64)                93440     \n",
      "                                                                 \n",
      " dropout_2 (Dropout)         (None, 64)                0         \n",
      "                                                                 \n",
      " dense_2 (Dense)             (None, 1)                 65        \n",
      "                                                                 \n",
      "=================================================================\n",
      "Total params: 6814705 (26.00 MB)\n",
      "Trainable params: 6814705 (26.00 MB)\n",
      "Non-trainable params: 0 (0.00 Byte)\n",
      "_________________________________________________________________\n",
      "Epoch 1/2\n",
      "163/163 [==============================] - 1023s 6s/step - loss: 113.6583 - mae: 6.6046\n",
      "Epoch 2/2\n",
      "163/163 [==============================] - 1068s 7s/step - loss: 98.7762 - mae: 5.8532\n",
      "82/82 [==============================] - 48s 579ms/step\n",
      "Kappa Score: 0.5635145522561498\n",
      "\n",
      "--------Fold 4--------\n",
      "\n",
      "Model: \"sequential_3\"\n",
      "_________________________________________________________________\n",
      " Layer (type)                Output Shape              Param #   \n",
      "=================================================================\n",
      " embedding_3 (Embedding)     (None, 600, 300)          6000000   \n",
      "                                                                 \n",
      " lstm_6 (LSTM)               (None, 600, 300)          721200    \n",
      "                                                                 \n",
      " lstm_7 (LSTM)               (None, 64)                93440     \n",
      "                                                                 \n",
      " dropout_3 (Dropout)         (None, 64)                0         \n",
      "                                                                 \n",
      " dense_3 (Dense)             (None, 1)                 65        \n",
      "                                                                 \n",
      "=================================================================\n",
      "Total params: 6814705 (26.00 MB)\n",
      "Trainable params: 6814705 (26.00 MB)\n",
      "Non-trainable params: 0 (0.00 Byte)\n",
      "_________________________________________________________________\n",
      "Epoch 1/2\n",
      "163/163 [==============================] - 1054s 6s/step - loss: 97.8070 - mae: 6.1390\n",
      "Epoch 2/2\n",
      "163/163 [==============================] - 1054s 6s/step - loss: 40.5277 - mae: 3.1482\n",
      "82/82 [==============================] - 50s 600ms/step\n",
      "Kappa Score: 0.7775942182500827\n"
     ]
    },
    {
     "name": "stderr",
     "output_type": "stream",
     "text": [
      "c:\\Users\\Adefemi\\Desktop\\eassay_score\\.venv\\Lib\\site-packages\\keras\\src\\engine\\training.py:3103: UserWarning: You are saving your model as an HDF5 file via `model.save()`. This file format is considered legacy. We recommend using instead the native Keras format, e.g. `model.save('my_model.keras')`.\n",
      "  saving_api.save_model(\n"
     ]
    },
    {
     "name": "stdout",
     "output_type": "stream",
     "text": [
      "\n",
      "--------Fold 5--------\n",
      "\n",
      "Model: \"sequential_4\"\n",
      "_________________________________________________________________\n",
      " Layer (type)                Output Shape              Param #   \n",
      "=================================================================\n",
      " embedding_4 (Embedding)     (None, 600, 300)          6000000   \n",
      "                                                                 \n",
      " lstm_8 (LSTM)               (None, 600, 300)          721200    \n",
      "                                                                 \n",
      " lstm_9 (LSTM)               (None, 64)                93440     \n",
      "                                                                 \n",
      " dropout_4 (Dropout)         (None, 64)                0         \n",
      "                                                                 \n",
      " dense_4 (Dense)             (None, 1)                 65        \n",
      "                                                                 \n",
      "=================================================================\n",
      "Total params: 6814705 (26.00 MB)\n",
      "Trainable params: 6814705 (26.00 MB)\n",
      "Non-trainable params: 0 (0.00 Byte)\n",
      "_________________________________________________________________\n",
      "Epoch 1/2\n",
      "163/163 [==============================] - 991s 6s/step - loss: 111.1851 - mae: 6.5118\n",
      "Epoch 2/2\n",
      "163/163 [==============================] - 1030s 6s/step - loss: 127.2449 - mae: 6.7861\n",
      "82/82 [==============================] - 44s 529ms/step\n",
      "Kappa Score: 0.0\n"
     ]
    }
   ],
   "source": [
    "from sklearn.model_selection import KFold\n",
    "from keras.models import Sequential\n",
    "from sklearn.metrics import cohen_kappa_score\n",
    "\n",
    "# Assuming you have already defined get_sequence_model() and essays_to_sequences()\n",
    "\n",
    "cv = KFold(n_splits=5, shuffle=True)\n",
    "results = []\n",
    "\n",
    "count = 1\n",
    "for traincv, testcv in cv.split(processed_data):\n",
    "    print(\"\\n--------Fold {}--------\\n\".format(count))\n",
    "    \n",
    "    X_train, y_train = processed_data[traincv], score_col.iloc[traincv]\n",
    "    X_test, y_test = processed_data[testcv], score_col.iloc[testcv]\n",
    "    \n",
    "    # Define the sequence model\n",
    "    sequence_model = get_sequence_model(sequence_length=max_sequence_length,\n",
    "                                        word_vector_dim=300,  # Word vector dimensionality\n",
    "                                        vocab_size=vocab_size)\n",
    "\n",
    "    # Train the model\n",
    "    sequence_model.fit(X_train, y_train, batch_size=64, epochs=2)\n",
    "\n",
    "    # Predict on the test set\n",
    "    y_pred = sequence_model.predict(X_test)\n",
    "\n",
    "    # Round y_pred to the nearest integer\n",
    "    y_pred = np.around(y_pred)\n",
    "\n",
    "    # Evaluate the model on the evaluation metric. \"Quadratic mean averaged Kappa\"\n",
    "    result = cohen_kappa_score(y_test.values, y_pred, weights='quadratic')\n",
    "    print(\"Kappa Score: {}\".format(result))\n",
    "    results.append(result)\n",
    "\n",
    "    count += 1\n",
    "\n",
    "    # Save the model at the last fold\n",
    "    if count == 5:\n",
    "        sequence_model.save('./model_weights/final_sequence_model.h5')\n"
   ]
  },
  {
   "cell_type": "code",
   "execution_count": 20,
   "metadata": {},
   "outputs": [
    {
     "name": "stdout",
     "output_type": "stream",
     "text": [
      "Rata-rata skor kappa:  0.2682\n"
     ]
    }
   ],
   "source": [
    "print(\"Rata-rata skor kappa: \", np.around(np.array(results).mean(),decimals=4))"
   ]
  },
  {
   "cell_type": "markdown",
   "metadata": {},
   "source": []
  },
  {
   "cell_type": "code",
   "execution_count": 24,
   "metadata": {},
   "outputs": [
    {
     "name": "stdout",
     "output_type": "stream",
     "text": [
      "[[   0    0    0    0    0    0    0    0    0    0    0    0    0    0\n",
      "     0    0    0    0    0    0    0    0    0    0    0    0    0    0\n",
      "     0    0    0    0    0    0    0    0    0    0    0    0    0    0\n",
      "     0    0    0    0    0    0    0    0    0    0    0    0    0    0\n",
      "     0    0    0    0    0    0    0    0    0    0    0    0    0    0\n",
      "     0    0    0    0    0    0    0    0    0    0    0    0    0    0\n",
      "     0    0    0    0    0    0    0    0    0    0    0    0    0    0\n",
      "     0    0    0    0    0    0    0    0    0    0    0    0    0    0\n",
      "     0    0    0    0    0    0    0    0    0    0    0    0    0    0\n",
      "     0    0    0    0    0    0    0    0    0    0    0    0    0    0\n",
      "     0    0    0    0    0    0    0    0    0    0    0    0    0    0\n",
      "     0    0    0    0    0    0    0    0    0    0    0    0    0    0\n",
      "     0    0    0    0  219    2    2    1  113    6   33   85  866   24\n",
      "   579    3  147 2149   24   26   67  869 1315    4  471  339   13  869\n",
      "  3814  526    4    6]]\n",
      "1/1 [==============================] - 0s 497ms/step\n",
      "Predicted Score: 0.0\n"
     ]
    }
   ],
   "source": [
    "import numpy as np\n",
    "import math\n",
    "\n",
    "essay_sample = \"\"\"\n",
    "    Dear @CAPS1 @CAPS2 I feel that computers do take away from peoples life and aren’t as important than the other factors of life. \n",
    "    First of all you know that the world is becoming obese because of lack of exercise. \n",
    "    Also, people are becoming more and more anti-social because of computers.\n",
    "\"\"\"\n",
    "\n",
    "# Assuming 'tokenizer' is the same tokenizer used during training\n",
    "# and 'max_sequence_length' is defined as during data preprocessing\n",
    "\n",
    "def preprocess_essay_to_sequence(essay, tokenizer, max_sequence_length):\n",
    "    # Clean and tokenize the essay\n",
    "    cleaned_essay = clean_essay(essay, remove_stopwords=True)\n",
    "    \n",
    "    # Convert to sequence\n",
    "    sequence = tokenizer.texts_to_sequences([cleaned_essay])\n",
    "    \n",
    "    # Pad sequence\n",
    "    padded_sequence = pad_sequences(sequence, maxlen=200)\n",
    "    \n",
    "    return padded_sequence\n",
    "\n",
    "if len(essay_sample.strip()) > 20:\n",
    "    # Preprocess the essay sample\n",
    "    sequence = preprocess_essay_to_sequence(essay_sample, tokenizer, max_sequence_length)\n",
    "    print(sequence)\n",
    "    \n",
    "    # Predict using the sequence model\n",
    "    predict = sequence_model.predict(sequence)\n",
    "\n",
    "    # Post-process the prediction\n",
    "    predict = np.squeeze(predict)  # Remove single-dimensional entries\n",
    "    predict = np.round(predict)    # Round to nearest integer\n",
    "\n",
    "    # Handling edge cases\n",
    "    if math.isnan(predict) or predict < 0:\n",
    "        predict = 0\n",
    "else:\n",
    "    predict = 0\n",
    "\n",
    "print(f\"Predicted Score: {predict}\")\n"
   ]
  },
  {
   "cell_type": "code",
   "execution_count": null,
   "metadata": {},
   "outputs": [],
   "source": [
    "from keras.optimizers import RMSprop\n",
    "\n",
    "# Adjust the learning rate\n",
    "optimizer = RMSprop(learning_rate=0.001)  # Experiment with different values, e.g., 0.0001\n",
    "lstm_model.compile(loss='mean_squared_error', optimizer=optimizer, metrics=['mae'])\n"
   ]
  },
  {
   "cell_type": "code",
   "execution_count": null,
   "metadata": {},
   "outputs": [],
   "source": [
    "# Adjust batch size in the fit method\n",
    "batch_size = 32  # Experiment with different values, e.g., 16, 32, 64\n",
    "lstm_model.fit(trainDataVecs, y_train, batch_size=batch_size, epochs=2)\n"
   ]
  },
  {
   "cell_type": "code",
   "execution_count": null,
   "metadata": {},
   "outputs": [],
   "source": [
    "def get_simplified_model():\n",
    "    model = Sequential()\n",
    "    model.add(LSTM(100, dropout=0.4, recurrent_dropout=0.4, input_shape=[1, 300]))\n",
    "    model.add(Dense(1, activation='relu'))\n",
    "\n",
    "    model.compile(loss='mean_squared_error', optimizer='rmsprop', metrics=['mae'])\n",
    "    return model\n",
    "\n",
    "# Use the simplified model\n",
    "lstm_model = get_simplified_model()\n"
   ]
  },
  {
   "cell_type": "code",
   "execution_count": null,
   "metadata": {},
   "outputs": [],
   "source": [
    "from keras.initializers import GlorotUniform\n",
    "\n",
    "def get_model_with_initialization():\n",
    "    model = Sequential()\n",
    "    # Example: Using GlorotUniform initializer\n",
    "    model.add(LSTM(300, dropout=0.4, recurrent_dropout=0.4, input_shape=[1, 300], kernel_initializer=GlorotUniform()))\n",
    "    model.add(Dense(1, activation='relu'))\n",
    "\n",
    "    model.compile(loss='mean_squared_error', optimizer='rmsprop', metrics=['mae'])\n",
    "    return model\n"
   ]
  },
  {
   "cell_type": "code",
   "execution_count": null,
   "metadata": {},
   "outputs": [],
   "source": [
    "from keras.regularizers import l2\n",
    "\n",
    "def get_model_with_regularization():\n",
    "    model = Sequential()\n",
    "    # Example: Adding L2 regularization\n",
    "    model.add(LSTM(300, dropout=0.4, recurrent_dropout=0.4, input_shape=[1, 300], kernel_regularizer=l2(0.01)))\n",
    "    model.add(Dense(1, activation='relu'))\n",
    "\n",
    "    model.compile(loss='mean_squared_error', optimizer='rmsprop', metrics=['mae'])\n",
    "    return model\n"
   ]
  },
  {
   "cell_type": "code",
   "execution_count": null,
   "metadata": {},
   "outputs": [],
   "source": [
    "from keras.optimizers import RMSprop\n",
    "\n",
    "# Using gradient clipping in optimizer\n",
    "optimizer = RMSprop(learning_rate=0.001, clipvalue=1.0)  # Clipvalue can be adjusted\n",
    "lstm_model.compile(loss='mean_squared_error', optimizer=optimizer, metrics=['mae'])\n"
   ]
  },
  {
   "cell_type": "code",
   "execution_count": null,
   "metadata": {},
   "outputs": [],
   "source": [
    "from sklearn.preprocessing import MinMaxScaler\n",
    "\n",
    "# Normalizing the target values (scores)\n",
    "scaler = MinMaxScaler(feature_range=(0, 1))\n",
    "y_train_scaled = scaler.fit_transform(y_train.values.reshape(-1, 1))\n",
    "y_test_scaled = scaler.transform(y_test.values.reshape(-1, 1))\n",
    "\n",
    "# Use scaled values for training and predictions\n",
    "lstm_model.fit(trainDataVecs, y_train_scaled, batch_size=64, epochs=2)\n"
   ]
  },
  {
   "cell_type": "code",
   "execution_count": null,
   "metadata": {},
   "outputs": [],
   "source": [
    "# Increase the number of epochs\n",
    "lstm_model.fit(trainDataVecs, y_train, batch_size=64, epochs=10)  # Increase epochs, e.g., 10\n"
   ]
  },
  {
   "cell_type": "code",
   "execution_count": null,
   "metadata": {},
   "outputs": [],
   "source": [
    "# Include validation data to monitor validation loss\n",
    "lstm_model.fit(trainDataVecs, y_train, validation_data=(testDataVecs, y_test), batch_size=64, epochs=2)\n",
    "\n",
    "\n",
    "# https://chat.openai.com/share/c1c547e0-9c1d-4a36-bdab-05b5dd594511\n"
   ]
  }
 ],
 "metadata": {
  "kernelspec": {
   "display_name": ".venv",
   "language": "python",
   "name": "python3"
  },
  "language_info": {
   "codemirror_mode": {
    "name": "ipython",
    "version": 3
   },
   "file_extension": ".py",
   "mimetype": "text/x-python",
   "name": "python",
   "nbconvert_exporter": "python",
   "pygments_lexer": "ipython3",
   "version": "3.11.7"
  }
 },
 "nbformat": 4,
 "nbformat_minor": 2
}
